{
 "cells": [
  {
   "cell_type": "markdown",
   "id": "ada122eb",
   "metadata": {},
   "source": [
    "# Data Exploration\n",
    "\n",
    "This notebook loads and inspects the Amazon Books review dataset.  \n",
    "The goal is to understand data structure, check data quality, and prepare it for model training."
   ]
  },
  {
   "cell_type": "code",
   "execution_count": 14,
   "id": "e631c2c8",
   "metadata": {},
   "outputs": [],
   "source": [
    "import pandas as pd\n",
    "import numpy as np\n",
    "import matplotlib.pyplot as plt\n",
    "import re\n",
    "\n",
    "# Display options\n",
    "pd.set_option('display.max_columns', None)"
   ]
  },
  {
   "cell_type": "markdown",
   "id": "0d9d84e2",
   "metadata": {},
   "source": [
    "## Load Dataset"
   ]
  },
  {
   "cell_type": "code",
   "execution_count": 2,
   "id": "67f8c9e1",
   "metadata": {},
   "outputs": [
    {
     "data": {
      "text/html": [
       "<div>\n",
       "<style scoped>\n",
       "    .dataframe tbody tr th:only-of-type {\n",
       "        vertical-align: middle;\n",
       "    }\n",
       "\n",
       "    .dataframe tbody tr th {\n",
       "        vertical-align: top;\n",
       "    }\n",
       "\n",
       "    .dataframe thead th {\n",
       "        text-align: right;\n",
       "    }\n",
       "</style>\n",
       "<table border=\"1\" class=\"dataframe\">\n",
       "  <thead>\n",
       "    <tr style=\"text-align: right;\">\n",
       "      <th></th>\n",
       "      <th>rating</th>\n",
       "      <th>title</th>\n",
       "      <th>text</th>\n",
       "      <th>images</th>\n",
       "      <th>asin</th>\n",
       "      <th>parent_asin</th>\n",
       "      <th>user_id</th>\n",
       "      <th>timestamp</th>\n",
       "      <th>helpful_vote</th>\n",
       "      <th>verified_purchase</th>\n",
       "    </tr>\n",
       "  </thead>\n",
       "  <tbody>\n",
       "    <tr>\n",
       "      <th>0</th>\n",
       "      <td>1</td>\n",
       "      <td>Not a watercolor book! Seems like copies imo.</td>\n",
       "      <td>It is definitely not a watercolor book.  The p...</td>\n",
       "      <td>[{'small_image_url': 'https://m.media-amazon.c...</td>\n",
       "      <td>B09BGPFTDB</td>\n",
       "      <td>B09BGPFTDB</td>\n",
       "      <td>AFKZENTNBQ7A7V7UXW5JJI6UGRYQ</td>\n",
       "      <td>2022-01-17 06:06:38.485</td>\n",
       "      <td>0</td>\n",
       "      <td>True</td>\n",
       "    </tr>\n",
       "    <tr>\n",
       "      <th>1</th>\n",
       "      <td>1</td>\n",
       "      <td>Missing the sketch pad</td>\n",
       "      <td>Missing the sketch pad. Even worse I realized ...</td>\n",
       "      <td>[]</td>\n",
       "      <td>1631591290</td>\n",
       "      <td>1631591290</td>\n",
       "      <td>AFKZENTNBQ7A7V7UXW5JJI6UGRYQ</td>\n",
       "      <td>2021-08-05 04:28:04.910</td>\n",
       "      <td>0</td>\n",
       "      <td>True</td>\n",
       "    </tr>\n",
       "    <tr>\n",
       "      <th>2</th>\n",
       "      <td>1</td>\n",
       "      <td>Crease down entire side of every page!!!</td>\n",
       "      <td>Every page has a crease running the entire len...</td>\n",
       "      <td>[{'small_image_url': 'https://images-na.ssl-im...</td>\n",
       "      <td>1780671067</td>\n",
       "      <td>1780671067</td>\n",
       "      <td>AFKZENTNBQ7A7V7UXW5JJI6UGRYQ</td>\n",
       "      <td>2021-01-26 01:07:03.325</td>\n",
       "      <td>2</td>\n",
       "      <td>True</td>\n",
       "    </tr>\n",
       "    <tr>\n",
       "      <th>3</th>\n",
       "      <td>1</td>\n",
       "      <td>Written From a Lens of Fear.</td>\n",
       "      <td>Only read and believe things you want to see c...</td>\n",
       "      <td>[]</td>\n",
       "      <td>0929385225</td>\n",
       "      <td>0929385225</td>\n",
       "      <td>AG2L7H23R5LLKDKLBEF2Q3L2MVDA</td>\n",
       "      <td>2021-04-05 01:16:52.328</td>\n",
       "      <td>0</td>\n",
       "      <td>False</td>\n",
       "    </tr>\n",
       "    <tr>\n",
       "      <th>4</th>\n",
       "      <td>1</td>\n",
       "      <td>Good if your little one is unsure/scared of th...</td>\n",
       "      <td>My little one just likes doctors so I thought ...</td>\n",
       "      <td>[]</td>\n",
       "      <td>0593426452</td>\n",
       "      <td>0593426452</td>\n",
       "      <td>AE74DYR3QUGVPZJ3P7RFWBGIX7XQ</td>\n",
       "      <td>2022-03-18 04:24:46.871</td>\n",
       "      <td>1</td>\n",
       "      <td>True</td>\n",
       "    </tr>\n",
       "  </tbody>\n",
       "</table>\n",
       "</div>"
      ],
      "text/plain": [
       "   rating                                              title  \\\n",
       "0       1      Not a watercolor book! Seems like copies imo.   \n",
       "1       1                             Missing the sketch pad   \n",
       "2       1           Crease down entire side of every page!!!   \n",
       "3       1                       Written From a Lens of Fear.   \n",
       "4       1  Good if your little one is unsure/scared of th...   \n",
       "\n",
       "                                                text  \\\n",
       "0  It is definitely not a watercolor book.  The p...   \n",
       "1  Missing the sketch pad. Even worse I realized ...   \n",
       "2  Every page has a crease running the entire len...   \n",
       "3  Only read and believe things you want to see c...   \n",
       "4  My little one just likes doctors so I thought ...   \n",
       "\n",
       "                                              images        asin parent_asin  \\\n",
       "0  [{'small_image_url': 'https://m.media-amazon.c...  B09BGPFTDB  B09BGPFTDB   \n",
       "1                                                 []  1631591290  1631591290   \n",
       "2  [{'small_image_url': 'https://images-na.ssl-im...  1780671067  1780671067   \n",
       "3                                                 []  0929385225  0929385225   \n",
       "4                                                 []  0593426452  0593426452   \n",
       "\n",
       "                        user_id               timestamp  helpful_vote  \\\n",
       "0  AFKZENTNBQ7A7V7UXW5JJI6UGRYQ 2022-01-17 06:06:38.485             0   \n",
       "1  AFKZENTNBQ7A7V7UXW5JJI6UGRYQ 2021-08-05 04:28:04.910             0   \n",
       "2  AFKZENTNBQ7A7V7UXW5JJI6UGRYQ 2021-01-26 01:07:03.325             2   \n",
       "3  AG2L7H23R5LLKDKLBEF2Q3L2MVDA 2021-04-05 01:16:52.328             0   \n",
       "4  AE74DYR3QUGVPZJ3P7RFWBGIX7XQ 2022-03-18 04:24:46.871             1   \n",
       "\n",
       "   verified_purchase  \n",
       "0               True  \n",
       "1               True  \n",
       "2               True  \n",
       "3              False  \n",
       "4               True  "
      ]
     },
     "execution_count": 2,
     "metadata": {},
     "output_type": "execute_result"
    }
   ],
   "source": [
    "# Load the dataset from the JSONL file\n",
    "df = pd.read_json(\"../data/Books_10k.jsonl\", lines=True)\n",
    "\n",
    "df.head()"
   ]
  },
  {
   "cell_type": "markdown",
   "id": "9eddc3d9",
   "metadata": {},
   "source": [
    "## Inspect the data"
   ]
  },
  {
   "cell_type": "code",
   "execution_count": 3,
   "id": "fcd500d5",
   "metadata": {},
   "outputs": [
    {
     "name": "stdout",
     "output_type": "stream",
     "text": [
      "<class 'pandas.core.frame.DataFrame'>\n",
      "RangeIndex: 10000 entries, 0 to 9999\n",
      "Data columns (total 10 columns):\n",
      " #   Column             Non-Null Count  Dtype         \n",
      "---  ------             --------------  -----         \n",
      " 0   rating             10000 non-null  int64         \n",
      " 1   title              10000 non-null  object        \n",
      " 2   text               10000 non-null  object        \n",
      " 3   images             10000 non-null  object        \n",
      " 4   asin               10000 non-null  object        \n",
      " 5   parent_asin        10000 non-null  object        \n",
      " 6   user_id            10000 non-null  object        \n",
      " 7   timestamp          10000 non-null  datetime64[ns]\n",
      " 8   helpful_vote       10000 non-null  int64         \n",
      " 9   verified_purchase  10000 non-null  bool          \n",
      "dtypes: bool(1), datetime64[ns](1), int64(2), object(6)\n",
      "memory usage: 713.0+ KB\n",
      "Columns: ['rating', 'title', 'text', 'images', 'asin', 'parent_asin', 'user_id', 'timestamp', 'helpful_vote', 'verified_purchase']\n"
     ]
    },
    {
     "data": {
      "text/plain": [
       "rating               0\n",
       "title                0\n",
       "text                 0\n",
       "images               0\n",
       "asin                 0\n",
       "parent_asin          0\n",
       "user_id              0\n",
       "timestamp            0\n",
       "helpful_vote         0\n",
       "verified_purchase    0\n",
       "dtype: int64"
      ]
     },
     "execution_count": 3,
     "metadata": {},
     "output_type": "execute_result"
    }
   ],
   "source": [
    "# Check structure and data types\n",
    "df.info()\n",
    "\n",
    "# Check column names\n",
    "print(\"Columns:\", df.columns.tolist())\n",
    "\n",
    "# Look for missing values\n",
    "df.isnull().sum()"
   ]
  },
  {
   "cell_type": "markdown",
   "id": "9178d51d",
   "metadata": {},
   "source": [
    "## Select and Label Relevant Data\n",
    "\n",
    "Extracting only the columns needed for sentiment classification:\n",
    "- `text`: the review content\n",
    "- `rating`: the review score (1–5 stars)\n",
    "\n",
    "Then map ratings to sentiment classes:\n",
    "- 1–2 → Negative\n",
    "- 3 → Neutral\n",
    "- 4–5 → Positive"
   ]
  },
  {
   "cell_type": "code",
   "execution_count": 9,
   "id": "8674c64f",
   "metadata": {},
   "outputs": [
    {
     "data": {
      "text/html": [
       "<div>\n",
       "<style scoped>\n",
       "    .dataframe tbody tr th:only-of-type {\n",
       "        vertical-align: middle;\n",
       "    }\n",
       "\n",
       "    .dataframe tbody tr th {\n",
       "        vertical-align: top;\n",
       "    }\n",
       "\n",
       "    .dataframe thead th {\n",
       "        text-align: right;\n",
       "    }\n",
       "</style>\n",
       "<table border=\"1\" class=\"dataframe\">\n",
       "  <thead>\n",
       "    <tr style=\"text-align: right;\">\n",
       "      <th></th>\n",
       "      <th>rating</th>\n",
       "      <th>text</th>\n",
       "      <th>sentiment</th>\n",
       "    </tr>\n",
       "  </thead>\n",
       "  <tbody>\n",
       "    <tr>\n",
       "      <th>0</th>\n",
       "      <td>1</td>\n",
       "      <td>It is definitely not a watercolor book.  The p...</td>\n",
       "      <td>negative</td>\n",
       "    </tr>\n",
       "    <tr>\n",
       "      <th>1</th>\n",
       "      <td>1</td>\n",
       "      <td>Missing the sketch pad. Even worse I realized ...</td>\n",
       "      <td>negative</td>\n",
       "    </tr>\n",
       "    <tr>\n",
       "      <th>2</th>\n",
       "      <td>1</td>\n",
       "      <td>Every page has a crease running the entire len...</td>\n",
       "      <td>negative</td>\n",
       "    </tr>\n",
       "    <tr>\n",
       "      <th>3</th>\n",
       "      <td>1</td>\n",
       "      <td>Only read and believe things you want to see c...</td>\n",
       "      <td>negative</td>\n",
       "    </tr>\n",
       "    <tr>\n",
       "      <th>4</th>\n",
       "      <td>1</td>\n",
       "      <td>My little one just likes doctors so I thought ...</td>\n",
       "      <td>negative</td>\n",
       "    </tr>\n",
       "  </tbody>\n",
       "</table>\n",
       "</div>"
      ],
      "text/plain": [
       "   rating                                               text sentiment\n",
       "0       1  It is definitely not a watercolor book.  The p...  negative\n",
       "1       1  Missing the sketch pad. Even worse I realized ...  negative\n",
       "2       1  Every page has a crease running the entire len...  negative\n",
       "3       1  Only read and believe things you want to see c...  negative\n",
       "4       1  My little one just likes doctors so I thought ...  negative"
      ]
     },
     "execution_count": 9,
     "metadata": {},
     "output_type": "execute_result"
    }
   ],
   "source": [
    "# Keep only what we need\n",
    "df = df[[\"rating\", \"text\"]]\n",
    "\n",
    "# Map rating to sentiment\n",
    "def map_sentiment(rating):\n",
    "    if rating in [1, 2]:\n",
    "        return \"negative\"\n",
    "    elif rating == 3:\n",
    "        return \"neutral\"\n",
    "    else:\n",
    "        return \"positive\"\n",
    "\n",
    "df[\"sentiment\"] = df[\"rating\"].apply(map_sentiment)\n",
    "\n",
    "df.head()"
   ]
  },
  {
   "cell_type": "markdown",
   "id": "ab0db76b",
   "metadata": {},
   "source": [
    "## Class Distribution\n",
    "\n",
    "We visualize how many samples belong to each sentiment class to understand if the dataset is balanced or skewed."
   ]
  },
  {
   "cell_type": "code",
   "execution_count": 12,
   "id": "8d5dad23",
   "metadata": {},
   "outputs": [
    {
     "data": {
      "image/png": "[encoded data removed]",
      "text/plain": [
       "<Figure size 640x480 with 1 Axes>"
      ]
     },
     "metadata": {},
     "output_type": "display_data"
    }
   ],
   "source": [
    "df[\"sentiment\"].value_counts().plot(kind=\"bar\", title=\"Class Distribution\", color=[\"red\", \"green\", \"gray\"])\n",
    "plt.xlabel(\"Sentiment\")\n",
    "plt.ylabel(\"Number of Reviews\")\n",
    "plt.show()"
   ]
  },
  {
   "cell_type": "markdown",
   "id": "4c172789",
   "metadata": {},
   "source": [
    "## Clean Review Text\n",
    "\n",
    "We define a function to clean the text.\n",
    "This includes:\n",
    "- Lowercasing\n",
    "- Stripping whitespace\n",
    "- ...\n",
    "\n",
    "Since we will use transformers library and a bert model, we will keep this function minimal. We could have done more but it was unnecessary, unless we were to use other traditional models."
   ]
  },
  {
   "cell_type": "code",
   "execution_count": 15,
   "id": "0a7e108f",
   "metadata": {},
   "outputs": [
    {
     "data": {
      "text/html": [
       "<div>\n",
       "<style scoped>\n",
       "    .dataframe tbody tr th:only-of-type {\n",
       "        vertical-align: middle;\n",
       "    }\n",
       "\n",
       "    .dataframe tbody tr th {\n",
       "        vertical-align: top;\n",
       "    }\n",
       "\n",
       "    .dataframe thead th {\n",
       "        text-align: right;\n",
       "    }\n",
       "</style>\n",
       "<table border=\"1\" class=\"dataframe\">\n",
       "  <thead>\n",
       "    <tr style=\"text-align: right;\">\n",
       "      <th></th>\n",
       "      <th>text</th>\n",
       "      <th>text_clean</th>\n",
       "    </tr>\n",
       "  </thead>\n",
       "  <tbody>\n",
       "    <tr>\n",
       "      <th>0</th>\n",
       "      <td>It is definitely not a watercolor book.  The p...</td>\n",
       "      <td>It is definitely not a watercolor book. The pa...</td>\n",
       "    </tr>\n",
       "    <tr>\n",
       "      <th>1</th>\n",
       "      <td>Missing the sketch pad. Even worse I realized ...</td>\n",
       "      <td>Missing the sketch pad. Even worse I realized ...</td>\n",
       "    </tr>\n",
       "    <tr>\n",
       "      <th>2</th>\n",
       "      <td>Every page has a crease running the entire len...</td>\n",
       "      <td>Every page has a crease running the entire len...</td>\n",
       "    </tr>\n",
       "    <tr>\n",
       "      <th>3</th>\n",
       "      <td>Only read and believe things you want to see c...</td>\n",
       "      <td>Only read and believe things you want to see c...</td>\n",
       "    </tr>\n",
       "    <tr>\n",
       "      <th>4</th>\n",
       "      <td>My little one just likes doctors so I thought ...</td>\n",
       "      <td>My little one just likes doctors so I thought ...</td>\n",
       "    </tr>\n",
       "  </tbody>\n",
       "</table>\n",
       "</div>"
      ],
      "text/plain": [
       "                                                text  \\\n",
       "0  It is definitely not a watercolor book.  The p...   \n",
       "1  Missing the sketch pad. Even worse I realized ...   \n",
       "2  Every page has a crease running the entire len...   \n",
       "3  Only read and believe things you want to see c...   \n",
       "4  My little one just likes doctors so I thought ...   \n",
       "\n",
       "                                          text_clean  \n",
       "0  It is definitely not a watercolor book. The pa...  \n",
       "1  Missing the sketch pad. Even worse I realized ...  \n",
       "2  Every page has a crease running the entire len...  \n",
       "3  Only read and believe things you want to see c...  \n",
       "4  My little one just likes doctors so I thought ...  "
      ]
     },
     "execution_count": 15,
     "metadata": {},
     "output_type": "execute_result"
    }
   ],
   "source": [
    "def clean_text(text):\n",
    "\n",
    "    text = text.strip()\n",
    "    text = re.sub(r\"\\s+\", \" \", text)\n",
    "    return text\n",
    "\n",
    "# Apply cleaning function\n",
    "df[\"text_clean\"] = df[\"text\"].apply(clean_text)\n",
    "\n",
    "df[[\"text\", \"text_clean\"]].head()"
   ]
  },
  {
   "cell_type": "markdown",
   "id": "22c886f4",
   "metadata": {},
   "source": [
    "## Save The Clean Data"
   ]
  },
  {
   "cell_type": "code",
   "execution_count": 17,
   "id": "c48dadeb",
   "metadata": {},
   "outputs": [],
   "source": [
    "# Save cleaned dataset\n",
    "df[[\"text_clean\", \"sentiment\"]].to_csv(\"../data/processed_reviews.csv\", index=False)"
   ]
  }
 ],
 "metadata": {
  "kernelspec": {
   "display_name": "Python 3 (ipykernel)",
   "language": "python",
   "name": "python3"
  },
  "language_info": {
   "codemirror_mode": {
    "name": "ipython",
    "version": 3
   },
   "file_extension": ".py",
   "mimetype": "text/x-python",
   "name": "python",
   "nbconvert_exporter": "python",
   "pygments_lexer": "ipython3",
   "version": "3.9.18"
  }
 },
 "nbformat": 4,
 "nbformat_minor": 5
}
